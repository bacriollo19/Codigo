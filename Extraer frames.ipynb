{
 "cells": [
  {
   "cell_type": "code",
   "execution_count": 5,
   "metadata": {},
   "outputs": [],
   "source": [
    "import cv2 \n",
    "import os \n",
    "import time"
   ]
  },
  {
   "cell_type": "code",
   "execution_count": 8,
   "metadata": {
    "scrolled": false
   },
   "outputs": [],
   "source": [
    "currentframe = 0\n",
    "\n",
    "for i in range(1,25):\n",
    "    \n",
    "    video = cv2.VideoCapture(\"DataSet/\"+str(i)+\".mp4\")\n",
    "\n",
    "    try: \n",
    "        if not os.path.exists('Frames 1-25 x 0.5seg'): \n",
    "            os.makedirs('Frames 1-25 x 0.5seg') \n",
    "    except OSError: \n",
    "        print ('Error: Creating directory of Frames') \n",
    "\n",
    "    while(True): \n",
    "      \n",
    "        ret,frame = video.read() \n",
    "        \n",
    "        if ret: \n",
    "            if currentframe%30 == 0 :  \n",
    "                \n",
    "                cv2.imwrite('./Frames 1-25 x 0.5seg/frame' + str(currentframe) + '.jpg', frame) \n",
    "\n",
    "            currentframe += 1\n",
    "        else: \n",
    "            break\n",
    "\n",
    "    video.release() \n",
    "    cv2.destroyAllWindows() "
   ]
  },
  {
   "cell_type": "code",
   "execution_count": null,
   "metadata": {
    "collapsed": true
   },
   "outputs": [],
   "source": []
  }
 ],
 "metadata": {
  "kernelspec": {
   "display_name": "Python 3",
   "language": "python",
   "name": "python3"
  },
  "language_info": {
   "codemirror_mode": {
    "name": "ipython",
    "version": 3
   },
   "file_extension": ".py",
   "mimetype": "text/x-python",
   "name": "python",
   "nbconvert_exporter": "python",
   "pygments_lexer": "ipython3",
   "version": "3.6.5"
  }
 },
 "nbformat": 4,
 "nbformat_minor": 1
}
